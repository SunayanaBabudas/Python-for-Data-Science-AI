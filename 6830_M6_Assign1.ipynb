{
 "cells": [
  {
   "cell_type": "code",
   "execution_count": 1,
   "metadata": {},
   "outputs": [],
   "source": [
    "# Question 1 \n",
    "\n",
    "from math import pi"
   ]
  },
  {
   "cell_type": "code",
   "execution_count": 2,
   "metadata": {},
   "outputs": [
    {
     "name": "stdout",
     "output_type": "stream",
     "text": [
      "Enter the radius for the circle: 2.3\n"
     ]
    }
   ],
   "source": [
    "r = float(input(\"Enter the radius for the circle: \"))"
   ]
  },
  {
   "cell_type": "code",
   "execution_count": 3,
   "metadata": {},
   "outputs": [],
   "source": [
    "Area = pi*r**2"
   ]
  },
  {
   "cell_type": "code",
   "execution_count": 4,
   "metadata": {},
   "outputs": [
    {
     "name": "stdout",
     "output_type": "stream",
     "text": [
      "16.619025137490002 is the area of the circle when radius is  2.3\n"
     ]
    }
   ],
   "source": [
    "print(Area, \"is the area of the circle when radius is \", + r)"
   ]
  },
  {
   "cell_type": "code",
   "execution_count": 1,
   "metadata": {},
   "outputs": [],
   "source": [
    "# Question 2 \n",
    "import tweepy"
   ]
  },
  {
   "cell_type": "code",
   "execution_count": 2,
   "metadata": {},
   "outputs": [],
   "source": [
    "auth = tweepy.OAuthHandler(consumer_key='s4r80P6oi0JdstClLsMmqN2kd', \n",
    "                           consumer_secret='ZHAxaOuRkV3OzcwfpgQXfPcNK7hu8xZhY90evYzrbduVdnb4u8')\n",
    "\n",
    "auth.set_access_token('803324470240808960-co4vq6Bynq5SosNaKN6R92D6xq9jlv6',\n",
    "                      'ffzRldKIdOJUP8u5vW3XS9JRNGahJNKkvy2cjYdKGRA8M')"
   ]
  },
  {
   "cell_type": "code",
   "execution_count": 3,
   "metadata": {},
   "outputs": [],
   "source": [
    "api = tweepy.API(auth)"
   ]
  },
  {
   "cell_type": "code",
   "execution_count": 4,
   "metadata": {},
   "outputs": [],
   "source": [
    "public_tweets = api.home_timeline()"
   ]
  },
  {
   "cell_type": "code",
   "execution_count": 5,
   "metadata": {},
   "outputs": [
    {
     "name": "stdout",
     "output_type": "stream",
     "text": [
      "I must say, Ted Cruz making poorly executed memes while riding in the quiet car of the White Supremacist Express is… https://t.co/ow8YpGVcMi\n",
      "RT @KamalaHarris: My heart was so full speaking with @HillaryClinton about Ruth Bader Ginsburg's legacy and the ongoing fight for equality…\n",
      "It’s October 1st, and countless families across the country are at their kitchen table trying to figure out how to… https://t.co/cW6emh4tRW\n",
      "I’ve lost track of all the ways @WellsFargo has failed its customers. Each time they swear they’ll change, but don'… https://t.co/AQT0PMoOki\n",
      "Involuntarily placing borrowers into forbearance can haunt @WellsFargo customers for years. They can have problems… https://t.co/Tey0fZYCU1\n",
      "Wells Fargo is still fundamentally broken. The bank didn’t just accidentally place a few non-delinquent borrowers i… https://t.co/Hpwet4NCcX\n",
      "Why would I allow the Debate Commission to change the rules for the second and third Debates when I easily won last time?\n",
      "Rival Peter Parker's own photography skills with the enhanced photo mode of Marvel's Spider-Man Remastered 📸 Place… https://t.co/R6PuSiQq5w\n",
      "More children in New York state have lost parents to COVID-19 than on 9/11. https://t.co/SXU5qhJMRP\n",
      "RT @kasie: “Amy Coney Barrett ... publicly supported an organization in 2006 that has said life begins at fertilization. It has also said t…\n",
      "கிராம சபைக் கூட்டங்களை ரத்து செய்ய வைத்த நிஜக் காரணம்  என்ன ?\n",
      "\n",
      "கொரோனா கால செலவு கணக்கு பற்றி மக்கள் கேள்விகள் கேட்… https://t.co/LZqPIsppk9\n",
      "RT @BetoORourke: Heres how we overcome this latest voter suppression bullshit: we call Texas voters tonight and ask them to make a plan to…\n",
      "RT @marceelias: This is an outrageous act of voter suppression by the Republicans who know they are losing at the ballot box.\n",
      "\n",
      "We will expl…\n",
      "Republican politicians are running against democracy in 2020 https://t.co/5bU8BtH090\n",
      "Under stadium lights or on the streets in Volta — win as one when FIFA 21 hits PS4 October 9:… https://t.co/6l6PczAD3f\n",
      "When they find out the lyrics imma be in trouble https://t.co/ixtr3DOyb4\n",
      "RT @RE_Games: Resident Evil Resistance just received a new update that brings new Survivor weapons, a new creature for Masterminds, and lot…\n",
      "RT @WhiteHouse: President @realDonaldTrump departs for New Jersey! https://t.co/XtLsrKyp1I\n",
      "These are the people that Trump refuses to condemn. \n",
      "These are the people he told to “stand by”. \n",
      "\n",
      "I’m sick to my s… https://t.co/ADwkPyBK8B\n",
      "RT @PodSaveAmerica: \"Joe Biden is talking about his son who served in Iraq and died. And then Donald Trump turns to him and says, 'I don't…\n"
     ]
    }
   ],
   "source": [
    "for tweet in public_tweets:\n",
    "    print(tweet.text)"
   ]
  },
  {
   "cell_type": "code",
   "execution_count": null,
   "metadata": {},
   "outputs": [],
   "source": []
  }
 ],
 "metadata": {
  "kernelspec": {
   "display_name": "Python 3",
   "language": "python",
   "name": "python3"
  },
  "language_info": {
   "codemirror_mode": {
    "name": "ipython",
    "version": 3
   },
   "file_extension": ".py",
   "mimetype": "text/x-python",
   "name": "python",
   "nbconvert_exporter": "python",
   "pygments_lexer": "ipython3",
   "version": "3.8.3"
  }
 },
 "nbformat": 4,
 "nbformat_minor": 4
}
