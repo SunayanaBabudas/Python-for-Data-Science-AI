{
  "nbformat": 4,
  "nbformat_minor": 0,
  "metadata": {
    "colab": {
      "name": "DecisionTree.ipynb",
      "provenance": [],
      "collapsed_sections": []
    },
    "kernelspec": {
      "name": "python3",
      "display_name": "Python 3"
    }
  },
  "cells": [
    {
      "cell_type": "code",
      "metadata": {
        "id": "ezLspdZ0E7zw",
        "colab_type": "code",
        "colab": {}
      },
      "source": [
        "# Import packages\n",
        "import numpy as np \n",
        "import pandas as pd\n",
        "from sklearn.model_selection import train_test_split\n",
        "from sklearn.tree import DecisionTreeClassifier\n",
        "from sklearn.metrics import accuracy_score\n",
        "from sklearn import tree\n",
        "\n",
        "# Loading data file\n",
        "\n",
        "import pandas as pd\n",
        "\n",
        "df = pd.read_excel ('default_of_credit_card_clients.xls')\n"
      ],
      "execution_count": 0,
      "outputs": []
    },
    {
      "cell_type": "code",
      "metadata": {
        "id": "rIcOV1yCFfI4",
        "colab_type": "code",
        "colab": {
          "base_uri": "https://localhost:8080/",
          "height": 51
        },
        "outputId": "098c65dd-32d2-443b-97ca-b775939e08ea"
      },
      "source": [
        "print(\"Dataset Length: : \", len(df))\n",
        "print(\"Dataset Shape: : \", df.shape)"
      ],
      "execution_count": 11,
      "outputs": [
        {
          "output_type": "stream",
          "text": [
            "Dataset Length: :  30001\n",
            "Dataset Shape: :  (30001, 25)\n"
          ],
          "name": "stdout"
        }
      ]
    },
    {
      "cell_type": "code",
      "metadata": {
        "id": "QuTAZIBryR6g",
        "colab_type": "code",
        "colab": {}
      },
      "source": [
        "print(\"Dataset:: \")\n",
        "df.head()"
      ],
      "execution_count": 0,
      "outputs": []
    },
    {
      "cell_type": "code",
      "metadata": {
        "id": "DDvCXz8zzKaP",
        "colab_type": "code",
        "colab": {}
      },
      "source": [
        "# Seperating the Target variable \n",
        "\n",
        "X = df.values[:,1:5]\n",
        "Y = df.values[:, 0]\n",
        "\n",
        "# Splitting Dataset into Test and Train \n",
        "X_train, X_test, y_train, y_test = train_test_split(X, Y, test_size = 0.3, random_state = 100)\n",
        "\n",
        "#Function to perform training with Entropy \n",
        "clf_entropy= DecisionTreeClassifier(criterion=\"entropy\", random_state= 100, max_depth=3, min_samples_leaf=5)\n",
        "clf_entropy.fit(X_train, y_train)\n"
      ],
      "execution_count": 0,
      "outputs": []
    },
    {
      "cell_type": "code",
      "metadata": {
        "id": "U713eNfq38Ba",
        "colab_type": "code",
        "colab": {}
      },
      "source": [
        "# Function to make Predictions \n",
        "y_pred_en = clf_entropy.predict(X_test)\n",
        "y_pred_en"
      ],
      "execution_count": 0,
      "outputs": []
    },
    {
      "cell_type": "code",
      "metadata": {
        "id": "0cfwx-M95P_j",
        "colab_type": "code",
        "colab": {}
      },
      "source": [
        "# Checking accuracy \n",
        "print(\"Accuracy is\", accuracy_score(y_test,y_pred_en)*100)"
      ],
      "execution_count": 0,
      "outputs": []
    },
    {
      "cell_type": "code",
      "metadata": {
        "id": "d67816AAFicW",
        "colab_type": "code",
        "colab": {}
      },
      "source": [
        ""
      ],
      "execution_count": 0,
      "outputs": []
    }
  ]
}